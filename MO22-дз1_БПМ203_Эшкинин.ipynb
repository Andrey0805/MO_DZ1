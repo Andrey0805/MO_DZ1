{
 "cells": [
  {
   "cell_type": "code",
   "execution_count": 1,
   "id": "b3656aca",
   "metadata": {},
   "outputs": [],
   "source": [
    "import pandas as pd\n",
    "import numpy as np\n",
    "from math import sqrt"
   ]
  },
  {
   "cell_type": "code",
   "execution_count": 2,
   "id": "16bdcd1d",
   "metadata": {},
   "outputs": [],
   "source": [
    "df_AFKS = pd.read_csv(\"AFKS.csv\")\n",
    "data_AFKS = pd.DataFrame(df_AFKS)\n",
    "data_AFKS['Цена'] = data_AFKS['Цена'].str.replace(',','.')\n",
    "data_AFKS = data_AFKS[:201]\n",
    "\n",
    "prices_AFKS = []\n",
    "for price in data_AFKS['Цена']:\n",
    "    prices_AFKS.append(price)"
   ]
  },
  {
   "cell_type": "code",
   "execution_count": 3,
   "id": "8594ea47",
   "metadata": {},
   "outputs": [],
   "source": [
    "df_NVTK = pd.read_csv(\"NVTK.csv\")\n",
    "data_NVTK = pd.DataFrame(df_NVTK)\n",
    "data_NVTK['Цена'] = data_NVTK['Цена'].str.replace(',','.')\n",
    "data_NVTK = data_NVTK[:201]\n",
    "\n",
    "prices_NVTK = []\n",
    "for price in data_NVTK['Цена']:\n",
    "    prices_NVTK.append(price)"
   ]
  },
  {
   "cell_type": "code",
   "execution_count": 4,
   "id": "ec8a8c77",
   "metadata": {},
   "outputs": [],
   "source": [
    "df_SNGS = pd.read_csv(\"SNGS.csv\")\n",
    "data_SNGS = pd.DataFrame(df_SNGS)\n",
    "data_SNGS['Цена'] = data_SNGS['Цена'].str.replace(',','.')\n",
    "data_SNGS = data_SNGS[:201]\n",
    "\n",
    "prices_SNGS = []\n",
    "for price in data_SNGS['Цена']:\n",
    "    prices_SNGS.append(price)"
   ]
  },
  {
   "cell_type": "code",
   "execution_count": 5,
   "id": "1ec39bb3",
   "metadata": {},
   "outputs": [
    {
     "name": "stdout",
     "output_type": "stream",
     "text": [
      "prices_AFKS: [17.65, 17.7, 17.34, 17.59, 17.61]\n",
      "prices_NVTK: [591.0, 599.5, 579.2, 581.8, 587.7]\n",
      "prices_SNGS: [33.975, 34.55, 33.675, 33.915, 33.945]\n"
     ]
    }
   ],
   "source": [
    "#Преобразование данных\n",
    "for i in range(len(prices_AFKS)):\n",
    "    prices_AFKS[i] = float(prices_AFKS[i])\n",
    "    \n",
    "for i in range(len(prices_NVTK)):\n",
    "    prices_NVTK[i] = float(prices_NVTK[i])\n",
    "    \n",
    "for i in range(len(prices_SNGS)):\n",
    "    prices_SNGS[i] = float(prices_SNGS[i])\n",
    "    \n",
    "print(\"prices_AFKS:\", prices_AFKS[:5])\n",
    "print(\"prices_NVTK:\", prices_NVTK[:5])\n",
    "print(\"prices_SNGS:\", prices_SNGS[:5])"
   ]
  },
  {
   "cell_type": "code",
   "execution_count": 6,
   "id": "dd6badbe",
   "metadata": {},
   "outputs": [
    {
     "name": "stdout",
     "output_type": "stream",
     "text": [
      "200 200 200\n",
      "netto_AFKS: [0.0028328611898016387, -0.02033898305084747, 0.014417531718569743, 0.0011370096645821892, 0.005110732538330387]\n",
      "netto_NVTK: [0.014382402707275865, -0.03386155129274393, 0.0044889502762428535, 0.010140941904434708, 0.005615109749872227]\n",
      "netto_SNGS: [0.016924208977189048, -0.02532561505065123, 0.007126948775055819, 0.0008845643520567492, 0.0016202680807189118]\n"
     ]
    }
   ],
   "source": [
    "#Нетто-доходность\n",
    "netto_AFKS = [0] * 200\n",
    "netto_NVTK = [0] * 200\n",
    "netto_SNGS = [0] * 200\n",
    "for i in range(1, 201):\n",
    "    netto_AFKS[i-1] = prices_AFKS[i] / prices_AFKS[i-1] - 1\n",
    "    netto_NVTK[i-1] = prices_NVTK[i] / prices_NVTK[i-1] - 1\n",
    "    netto_SNGS[i-1] = prices_SNGS[i] / prices_SNGS[i-1] - 1\n",
    "\n",
    "print(len(netto_AFKS), len(netto_NVTK), len(netto_SNGS))\n",
    "print(\"netto_AFKS:\", netto_AFKS[:5])\n",
    "print(\"netto_NVTK:\", netto_NVTK[:5])\n",
    "print(\"netto_SNGS:\", netto_SNGS[:5])"
   ]
  },
  {
   "cell_type": "code",
   "execution_count": 7,
   "id": "a1ae2a78",
   "metadata": {
    "scrolled": true
   },
   "outputs": [
    {
     "name": "stdout",
     "output_type": "stream",
     "text": [
      "mean_AFKS = -0.00017457040217465412\n",
      "mean_NVTK = -0.0010634269129275104\n",
      "mean_SNGS = 0.00020605427021471112\n"
     ]
    }
   ],
   "source": [
    "#Среднее значение нетто-доходности\n",
    "mean_AFKS = np.mean(netto_AFKS)\n",
    "mean_NVTK = np.mean(netto_NVTK)\n",
    "mean_SNGS = np.mean(netto_SNGS)\n",
    "\n",
    "print(\"mean_AFKS =\", mean_AFKS)\n",
    "print(\"mean_NVTK =\", mean_NVTK)\n",
    "print(\"mean_SNGS =\", mean_SNGS)"
   ]
  },
  {
   "cell_type": "code",
   "execution_count": 8,
   "id": "0003d737",
   "metadata": {},
   "outputs": [
    {
     "name": "stdout",
     "output_type": "stream",
     "text": [
      "dispersion_AFKS = 0.00031399636089890633\n",
      "dispersion_NVTK = 0.00029100734338162687\n",
      "dispersion_SNGS = 0.000373327876803058\n"
     ]
    }
   ],
   "source": [
    "#Дисперсия\n",
    "dispersion_AFKS = np.mean((netto_AFKS - mean_AFKS)**2)\n",
    "dispersion_NVTK = np.mean((netto_NVTK - mean_NVTK)**2)\n",
    "dispersion_SNGS = np.mean((netto_SNGS - mean_SNGS)**2)\n",
    "\n",
    "print(\"dispersion_AFKS =\", dispersion_AFKS)\n",
    "print(\"dispersion_NVTK =\", dispersion_NVTK)\n",
    "print(\"dispersion_SNGS =\", dispersion_SNGS)"
   ]
  },
  {
   "cell_type": "code",
   "execution_count": 9,
   "id": "3c783fc0",
   "metadata": {
    "scrolled": true
   },
   "outputs": [
    {
     "name": "stdout",
     "output_type": "stream",
     "text": [
      "[[0.00031557 0.00010769 0.00013394]\n",
      " [0.00010769 0.00029247 0.00012679]\n",
      " [0.00013394 0.00012679 0.0003752 ]]\n"
     ]
    }
   ],
   "source": [
    "#Матрица ковариаций\n",
    "X = np.array([netto_AFKS, netto_NVTK, netto_SNGS])\n",
    "covariation = np.cov(X)\n",
    "print(covariation)"
   ]
  },
  {
   "cell_type": "markdown",
   "id": "607b764b",
   "metadata": {},
   "source": [
    "# Составим задачу минимизации дисперсии портфеля\n",
    "\n",
    "D($\\sum_{i=1}^{3} x_{i} r_{i}$) = D($x_{1} r_{1}$ + $x_{2} r_{2}$ + $x_{3} r_{3}$) = $\\sum_{i=1}^{3} x_{i}^{2} D(r_{i})$ + 2 $x_{1} x_{2}$ cov($r_{1}$, $r_{2}$) + 2 $x_{2} x_{3}$ cov($r_{2}$, $r_{3}$) + 2 $x_{1} x_{3}$ cov($r_{1}$, $r_{3}$)"
   ]
  },
  {
   "cell_type": "markdown",
   "id": "b6a5e0bc",
   "metadata": {},
   "source": [
    "### Составим систему\n",
    "\\begin{equation*}\n",
    "    \\begin{cases}\n",
    "      f0(x_{1}, x_{2}, x_{3}) = D_{11} * x_{1}^{2} + D_{22} * x_{2}^{2} + D_{33} * x_{3}^{2} + 2 * D_{12} * x_{1} * x_{2} + 2 * D_{23} * x_{2} * x_{3} + 2 * D_{13} * x_{1} * x_{3} \\ \\rightarrow min \\\\\n",
    "      f1(x_{1}, x_{2}, x_{3}) = \\mu_1 * x_{1} + \\mu_2 * x_{2} + \\mu_3 * x_{3} \\ = \\mu* \\\\\n",
    "      f2(x_{1}, x_{2}, x_{3}) = x_{1} + x_{2} + x_{3} = 1 \\\\\n",
    "      -0.0010634269129275104 < \\mu* < 0.00020605427021471112 \\\\\n",
    "      x_{1} \\geqslant 0 \\\\\n",
    "      x_{2} \\geqslant 0 \\\\\n",
    "      x_{3} \\geqslant 0\n",
    "    \\end{cases}\n",
    "\\end{equation*}"
   ]
  },
  {
   "cell_type": "markdown",
   "id": "dcdf2add",
   "metadata": {},
   "source": [
    "### Решение системы"
   ]
  },
  {
   "cell_type": "markdown",
   "id": "9bd5ab10",
   "metadata": {},
   "source": [
    "Возмем $\\mu*$ = 0.00001\n",
    "\n",
    "Составим функцию Лагранжа.\n",
    "\n",
    "$$L(x_{1}, x_{2}, x_{3}) = \\lambda_{0} f_{0}(x_{1}, x_{2}, x_{3}) + \\lambda_{1} (f_{1}(x_{1}, x_{2}, x_{3}) - 0.00001) + \\lambda_{2} (f_{2}(x_{1}, x_{2}, x_{3}) - 1)$$\n",
    "\n",
    "Нет условий дополняющей нежесткости, так как нет неравенств.\n",
    "\n",
    "Составим систему.\n",
    "\n",
    "\\begin{equation*}\n",
    "    \\begin{cases}\n",
    "      \\sigma_{x1} L(x_{1}, x_{2}, x_{3}) = 0 \\\\\n",
    "      \\sigma_{x2} L(x_{1}, x_{2}, x_{3}) = 0 \\\\\n",
    "      \\sigma_{x3} L(x_{1}, x_{2}, x_{3}) = 0 \\\\\n",
    "      f1(x_{1}, x_{2}, x_{3}) - 0.00001 = 0 \\\\\n",
    "      f2(x_{1}, x_{2}, x_{3}) - 1 = 0 \\\\\n",
    "      x_{1} \\geqslant 0 \\\\\n",
    "      x_{2} \\geqslant 0 \\\\\n",
    "      x_{3} \\geqslant 0\n",
    "    \\end{cases}\n",
    "\\end{equation*}"
   ]
  },
  {
   "cell_type": "code",
   "execution_count": 17,
   "id": "a413e7ac",
   "metadata": {},
   "outputs": [],
   "source": [
    "from sympy import *\n",
    "\n",
    "#Вводим переменные\n",
    "x1 = Symbol('x1')\n",
    "x2 = Symbol('x2')\n",
    "x3 = Symbol('x3')\n",
    "lambda1 = Symbol('l1')\n",
    "lambda2 = Symbol('l2')\n",
    "\n",
    "#обозначим ковариацию\n",
    "D11 = covariation[0][0]\n",
    "D12 = covariation[0][1]\n",
    "D13 = covariation[0][2]\n",
    "D21 = covariation[1][0]\n",
    "D22 = covariation[1][1]\n",
    "D23 = covariation[1][2]\n",
    "D31 = covariation[2][0]\n",
    "D32 = covariation[2][1]\n",
    "D33 = covariation[2][2]\n",
    "\n",
    "#обозначим среднюю\n",
    "m1 = mean_AFKS\n",
    "m2 = mean_NVTK\n",
    "m3 = mean_SNGS\n",
    "\n",
    "#Уравнения\n",
    "f0 = D11 * x1**2 + D22 * x2**2 + D33 * x3**2 + 2*D12*x1*x2 + 2*D13*x1*x3 + 2*D23*x3*x2\n",
    "f1 = m1 * x1 + m2 * x2 + m3 * x3\n",
    "f2 = x1 + x2 + x3"
   ]
  },
  {
   "cell_type": "markdown",
   "id": "80caea39",
   "metadata": {},
   "source": [
    "#### Решим систему\n",
    "1) $\\lambda_{0}$ = 0"
   ]
  },
  {
   "cell_type": "code",
   "execution_count": 24,
   "id": "66516261",
   "metadata": {},
   "outputs": [
    {
     "data": {
      "text/latex": [
       "$\\displaystyle \\left\\{\\left( 1.2076492661547 - 1.42821835446418 x_{3}, \\  0.428218354464185 x_{3} - 0.207649266154696, \\  x_{3}, \\  0, \\  0\\right)\\right\\}$"
      ],
      "text/plain": [
       "{(1.2076492661547 - 1.42821835446418*x3, 0.428218354464185*x3 - 0.207649266154696, x3, 0, 0)}"
      ]
     },
     "execution_count": 24,
     "metadata": {},
     "output_type": "execute_result"
    }
   ],
   "source": [
    "lagrange_function_0 = lambda1 * (f1 - 0.00001) + lambda2 * (f2 - 1)\n",
    "\n",
    "nonlinsolve([\n",
    "    lagrange_function_0.diff(x1),\n",
    "    lagrange_function_0.diff(x2),\n",
    "    lagrange_function_0.diff(x3),\n",
    "    f1 - 0.00001,\n",
    "    f2 - 1,\n",
    "    x1 >= 0,\n",
    "    x2 >= 0,\n",
    "    x3 >= 0\n",
    "], [x1, x2, x3, lambda1, lambda2])"
   ]
  },
  {
   "cell_type": "markdown",
   "id": "1c94423e",
   "metadata": {},
   "source": [
    "Вектор $\\lambda$ = ($\\lambda_{0}$, $\\lambda_{1}$, $\\lambda_{2}$) получился нулевой.\n",
    "Следовательно, $\\lambda_{0} \\ne 0$ \n",
    "\n",
    "2) $\\lambda_{0} = 1$"
   ]
  },
  {
   "cell_type": "code",
   "execution_count": 25,
   "id": "73e8c8b8",
   "metadata": {},
   "outputs": [
    {
     "data": {
      "text/latex": [
       "$\\displaystyle \\left\\{\\left( 0.46388843901588, \\  0.015350274858619, \\  0.520761286125501, \\  -0.218987536925042, \\  -0.00047381993391644\\right)\\right\\}$"
      ],
      "text/plain": [
       "{(0.46388843901588, 0.015350274858619, 0.520761286125501, -0.218987536925042, -0.00047381993391644)}"
      ]
     },
     "execution_count": 25,
     "metadata": {},
     "output_type": "execute_result"
    }
   ],
   "source": [
    "lagrange_function_1 = f0 + lambda1 * (f1 - 0.00001) + lambda2 * (f2 - 1)\n",
    "\n",
    "nonlinsolve([\n",
    "    lagrange_function_1.diff(x1),\n",
    "    lagrange_function_1.diff(x2),\n",
    "    lagrange_function_1.diff(x3),\n",
    "    f1 - 0.00001,\n",
    "    f2 - 1,\n",
    "    x1 >= 0,\n",
    "    x2 >= 0,\n",
    "    x3 >= 0\n",
    "], [x1, x2, x3, lambda1, lambda2])"
   ]
  },
  {
   "cell_type": "markdown",
   "id": "96895eb3",
   "metadata": {},
   "source": [
    "#### Ответ:\n",
    "Получили решение системы.\n",
    "\n",
    "Вектор $x = (x_{1}, x_{2}, x_{3})$ удовлетворяет множеству допустимых решений $(x_{1} \\geqslant 0, x_{2} \\geqslant 0, x_{3} \\geqslant 0)$\n",
    "\n",
    "Следовательно, по теореме Куна-Таккера полученный вектор х является решением системы.\n",
    "\n",
    "$x = (0.46388843901588, 0.015350274858619, 0.520761286125501)$"
   ]
  },
  {
   "cell_type": "markdown",
   "id": "d6464cec",
   "metadata": {},
   "source": [
    "### Работу выполнил Эшкинин Андрей Игоревич БПМ-203"
   ]
  }
 ],
 "metadata": {
  "kernelspec": {
   "display_name": "Python 3 (ipykernel)",
   "language": "python",
   "name": "python3"
  },
  "language_info": {
   "codemirror_mode": {
    "name": "ipython",
    "version": 3
   },
   "file_extension": ".py",
   "mimetype": "text/x-python",
   "name": "python",
   "nbconvert_exporter": "python",
   "pygments_lexer": "ipython3",
   "version": "3.9.12"
  }
 },
 "nbformat": 4,
 "nbformat_minor": 5
}
